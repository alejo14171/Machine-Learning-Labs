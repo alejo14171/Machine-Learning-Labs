{
  "nbformat": 4,
  "nbformat_minor": 0,
  "metadata": {
    "colab": {
      "provenance": [],
      "toc_visible": true,
      "authorship_tag": "ABX9TyOiqVsWSL3P/5kBRk4fIPAH",
      "include_colab_link": true
    },
    "kernelspec": {
      "name": "python3",
      "display_name": "Python 3"
    },
    "language_info": {
      "name": "python"
    }
  },
  "cells": [
    {
      "cell_type": "markdown",
      "metadata": {
        "id": "view-in-github",
        "colab_type": "text"
      },
      "source": [
        "<a href=\"https://colab.research.google.com/github/alejo14171/Machine-Learning-Labs/blob/main/Minimos_Cuadrados_Lineales_y_Polinomicos.ipynb\" target=\"_parent\"><img src=\"https://colab.research.google.com/assets/colab-badge.svg\" alt=\"Open In Colab\"/></a>"
      ]
    },
    {
      "cell_type": "code",
      "source": [
        "# import random as rnd\n",
        "\n",
        "# N = 4 # Nivel básico\n",
        "\n",
        "# text_predecesor = '¿Qué número es el predecesor de '\n",
        "# text_sucesor = '¿Qué número es el sucesor de '\n",
        "# text_mayor = '¿Qué número es mayor?'\n",
        "# text_menor = '¿Qué número es menor?'\n",
        "\n",
        "# preguntas = [text_predecesor, text_sucesor, text_mayor, text_menor]\n",
        "\n",
        "# def respuestas_menor(nivel):\n",
        "#   aux = ['a)', 'b)', 'c)', 'd)', 'e)', 'f)']\n",
        "#   for i in range(nivel):\n",
        "#     print('\\t', aux[i])\n",
        "\n",
        "# def respuestas_sucesor(nivel, n):\n",
        "#   aux = ['a)', 'b)', 'c)', 'd)', 'e)', 'f)']\n",
        "#   respuestas_posibles = [n-3, n-2, n-1, n, n+1, n+2]\n",
        "#   rnd.shuffle(respuestas_posibles)\n",
        "#   for i in range(nivel):\n",
        "#     print('\\t', aux[i], respuestas_posibles[i])\n",
        "\n",
        "# for i in range(15):\n",
        "#   pregunta_aleatoria = rnd.randint(0, 3)\n",
        "#   if N == 3:\n",
        "#     sup = 3\n",
        "#     inf = 25\n",
        "#   elif N == 4:\n",
        "#     sup = 100\n",
        "#     inf = 999\n",
        "#   else:\n",
        "#     sup = 10\n",
        "#     inf = 20\n",
        "#   aux_aleatorio = rnd.randint(sup, inf)\n",
        "#   print(str(i+1)+')', preguntas[pregunta_aleatoria])\n",
        "#   if pregunta_aleatoria > 1:\n",
        "#      respuestas_menor(N)\n",
        "#   else:\n",
        "#       respuestas_sucesor(3, aux_aleatorio)\n"
      ],
      "metadata": {
        "id": "QT6DyaTBCn-u"
      },
      "execution_count": 1,
      "outputs": []
    },
    {
      "cell_type": "markdown",
      "source": [
        "# Laboratorio 1: Mínimos Cuadrados Lineales y Polinómicos\n",
        "\n",
        "**Presentado por: Alejandro Gómez, Oscar Eduardo Muñóz, Carolina Agudelo**\\\n",
        "**Asignatura: Aprendizaje de Máquina**\\\n",
        "**Maestría en Ing. de Sistemas y Computación** \\\n",
        "**Universidad Tecnológica de Pereira**"
      ],
      "metadata": {
        "id": "-eXVCOuL10mF"
      }
    },
    {
      "cell_type": "markdown",
      "source": [
        "## Resumen\n",
        "\n",
        "\n",
        "\n",
        "<p align=\"justify\">En esta práctica de aprendizaje de máquinas, se implementarán modelos de regresión lineal y polinómica utilizando el método de mínimos cuadrados. Se realizarán diferentes pasos, como la división del conjunto de datos en entrenamiento y validación, el cálculo de los parámetros del modelo y la realización de predicciones. También se calcularán métricas de desempeño, como el coeficiente de correlación y el error cuadrático medio. En la segunda parte, se implementará un modelo polinómico regularizado y se buscará el valor óptimo del parámetro de regularización. Además, se propone inferir los valores de amplitud y velocidad angular de una señal sinusoidal utilizando el método de mínimos cuadrados.</p>\n"
      ],
      "metadata": {
        "id": "nnHNUGa345QB"
      }
    },
    {
      "cell_type": "markdown",
      "source": [
        "## Introducción\n",
        "\n",
        "En este informe se presenta el desarrollo y los resultados obtenidos en el Taller Laboratorio de Mínimos Cuadrados Lineales y Polinómicos. El objetivo de este taller fue implementar modelos de regresión lineal y polinómica utilizando el método de mínimos cuadrados, así como inferir los valores de amplitud y velocidad angular de una señal sinusoidal.\n",
        "\n",
        "El método de mínimos cuadrados es una técnica ampliamente utilizada en el campo del aprendizaje de máquinas para ajustar modelos a datos observados. Consiste en encontrar los parámetros del modelo que minimizan la suma de los cuadrados de las diferencias entre los valores predichos por el modelo y los valores reales de los datos. En el caso de la regresión lineal, se busca encontrar la mejor línea recta que se ajuste a los datos, mientras que en la regresión polinómica se busca encontrar el mejor polinomio que se ajuste a los datos.\n",
        "\n",
        "En la primera parte del taller, se implementaron modelos de regresión lineal y polinómica sin regularización. Se realizaron diferentes pasos, como la división del conjunto de datos en entrenamiento y validación, el cálculo de los parámetros del modelo y la realización de predicciones. Además, se calcularon métricas de desempeño, como el coeficiente de correlación y el error cuadrático medio.\n",
        "\n",
        "En la segunda parte del taller, se implementó un modelo polinómico regularizado. La regularización es una técnica que se utiliza para evitar el sobreajuste del modelo a los datos de entrenamiento. Se buscó el valor óptimo del parámetro de regularización mediante la búsqueda en una grilla de valores. Se evaluó el desempeño del modelo utilizando métricas de rendimiento y se analizaron los valores del vector de parámetros.\n",
        "\n",
        "En la tercera parte del taller, se utilizó el método de mínimos cuadrados para inferir los valores de amplitud y velocidad angular de una señal sinusoidal. Se aplicó la serie de Maclaurin para aproximar la función seno y se calcularon los parámetros utilizando el método de mínimos cuadrados. Se evaluó el desempeño del modelo y se analizaron los resultados obtenidos .\n",
        "\n",
        "A lo largo de este informe se presentarán los procedimientos implementados, los resultados obtenidos y se realizará un análisis de los mismos. Se incluirán ecuaciones y figuras para ilustrar los conceptos y los resultados obtenidos."
      ],
      "metadata": {
        "id": "wRKsA-Wp5Cpd"
      }
    },
    {
      "cell_type": "markdown",
      "source": [
        "## Desarrollo del Laboratorio: Parte I (No Regularizada)\n"
      ],
      "metadata": {
        "id": "4OBE4ljUCOdm"
      }
    },
    {
      "cell_type": "markdown",
      "source": [
        "### Punto a\n",
        "Clonando el repositorio para obtener el dataset."
      ],
      "metadata": {
        "id": "hYsWojXIDgKk"
      }
    },
    {
      "cell_type": "code",
      "execution_count": 2,
      "metadata": {
        "colab": {
          "base_uri": "https://localhost:8080/"
        },
        "id": "OUtY1_XPnShM",
        "outputId": "1e20ed39-5e59-4f68-aed0-e80d07cdc60c"
      },
      "outputs": [
        {
          "output_type": "stream",
          "name": "stdout",
          "text": [
            "Cloning into 'Database'...\n",
            "remote: Enumerating objects: 49, done.\u001b[K\n",
            "remote: Counting objects: 100% (49/49), done.\u001b[K\n",
            "remote: Compressing objects: 100% (48/48), done.\u001b[K\n",
            "remote: Total 49 (delta 14), reused 0 (delta 0), pack-reused 0\u001b[K\n",
            "Receiving objects: 100% (49/49), 46.85 KiB | 3.12 MiB/s, done.\n",
            "Resolving deltas: 100% (14/14), done.\n"
          ]
        }
      ],
      "source": [
        "!git clone \"https://github.com/ChenaoB/Database.git\""
      ]
    },
    {
      "cell_type": "markdown",
      "source": [
        "### Punto b\n",
        "Importando librerías necesarias y cargando el dataset obtenido en formato CSV a un dataframe."
      ],
      "metadata": {
        "id": "-h576tT-KAPh"
      }
    },
    {
      "cell_type": "code",
      "source": [
        "import numpy as np\n",
        "import pandas as pd\n",
        "import matplotlib.pyplot as plt"
      ],
      "metadata": {
        "id": "9T2yr2T1n8l1"
      },
      "execution_count": 3,
      "outputs": []
    },
    {
      "cell_type": "code",
      "source": [
        "df = pd.read_csv(\"/content/Database/DataLeastSquarePolinomial.csv\")"
      ],
      "metadata": {
        "id": "FH4QHehOJtwT"
      },
      "execution_count": 4,
      "outputs": []
    },
    {
      "cell_type": "markdown",
      "source": [
        "### Punto c\n",
        "Dividiendo el dataset en conjuntos de entrenamiento y validación (75% entrenamiento, 25% validación)."
      ],
      "metadata": {
        "id": "2Pg7xRxlKmnU"
      }
    },
    {
      "cell_type": "code",
      "source": [
        "Train = df.sample(frac=0.75, random_state=42)\n",
        "Test = df.drop(Train.index)"
      ],
      "metadata": {
        "id": "CpnnL4d4K0qO"
      },
      "execution_count": 5,
      "outputs": []
    },
    {
      "cell_type": "markdown",
      "source": [
        "### Punto d\n",
        "Construyendo la matriz $X$ y el vector $y$ asumiendo un modelo polinómico para los datos con $M = 7$."
      ],
      "metadata": {
        "id": "QQDR7fSUK_Fu"
      }
    },
    {
      "cell_type": "code",
      "source": [
        "# Obtenemos la cantidad de muestras del conjunto de entrenamiento.\n",
        "m = Train.shape[0]\n",
        "\n",
        "# Definimos el número de parámetros del polinomio, que es 8 en este caso.\n",
        "n = 7\n",
        "\n",
        "# Inicialización: Creamos matrices vacías para almacenar los datos de entrenamiento y prueba.\n",
        "XTrain = np.zeros((m, n+1))  # La matriz X para entrenamiento.\n",
        "YTrain = np.zeros((m, 1))    # El vector Y para entrenamiento.\n",
        "YTest = np.zeros((Test.shape[0], 1))  # El vector Y para prueba.\n",
        "XTest = np.zeros((Test.shape[0], n+1))  # La matriz X para prueba.\n",
        "\n",
        "# Llenamos las matrices X con las potencias de la variable 'X' (polinómico).\n",
        "for i in range(n+1):\n",
        "  XTrain[:, i] = Train['X']**i  # Llenamos cada columna de XTrain con potencias de X.\n",
        "  XTest[:, i] = Test['X']**i    # Llenamos cada columna de XTest con potencias de X.\n",
        "\n",
        "# Llenamos los vectores Y con los valores de 'Y' del conjunto de datos.\n",
        "YTrain[:,0] = Train['Y']  # Llenamos el vector YTrain con los valores de 'Y' de entrenamiento.\n",
        "YTest[:,0] = Test['Y']    # Llenamos el vector YTest con los valores de 'Y' de prueba.\n"
      ],
      "metadata": {
        "id": "H-cyuE-KLWYn"
      },
      "execution_count": 6,
      "outputs": []
    },
    {
      "cell_type": "code",
      "source": [
        "XTrain.shape"
      ],
      "metadata": {
        "colab": {
          "base_uri": "https://localhost:8080/"
        },
        "id": "abodxhRgZvit",
        "outputId": "9b9ccdd9-fa7c-4379-af37-fa545e4ba7f8"
      },
      "execution_count": 7,
      "outputs": [
        {
          "output_type": "execute_result",
          "data": {
            "text/plain": [
              "(75, 8)"
            ]
          },
          "metadata": {},
          "execution_count": 7
        }
      ]
    },
    {
      "cell_type": "markdown",
      "source": [
        "### Punto e\n",
        "Calculando el vector de parámetros $W$ utilizando la solución por mínimos cuadrados (ecuación 1).\n",
        "\n",
        "   - Ecuación 1: <br>\n",
        "   ![Ecuación 1](https://latex.codecogs.com/png.latex?%5Cmathbf%7BW%7D%20%3D%20%28%5Cmathbf%7BX%7D%5E%7B%5Ctop%7D%5Cmathbf%7BX%7D%29%5E%7B-1%7D%5Cmathbf%7BX%7D%5E%7B%5Ctop%7D%5Cmathbf%7By%7D)"
      ],
      "metadata": {
        "id": "MRrfzQS-MCuo"
      }
    },
    {
      "cell_type": "code",
      "source": [
        "# Vamos a calcular omega (w)\n",
        "w = np.dot(np.linalg.inv(np.dot(np.transpose(XTrain), XTrain)), np.dot(np.transpose(XTrain), YTrain))"
      ],
      "metadata": {
        "id": "bhcP5370LEQp"
      },
      "execution_count": 8,
      "outputs": []
    },
    {
      "cell_type": "markdown",
      "source": [
        "### Punto f\n",
        "Realice la predicción sobre el conjunto de datos de entrenamiento y validación utilizando la ecuación 2.\n",
        "\n",
        "\n",
        "\n",
        "*   Ecuación 2:\n",
        "$$\\hat{Y} = W^T \\textbf{X}$$\n",
        "\n",
        "Donde $\\textbf{X}$ es la matriz de diseño según sea el caso (entrenamiento o validación).\n",
        "\n",
        "\n",
        "\n"
      ],
      "metadata": {
        "id": "a_nlMBnJLXob"
      }
    },
    {
      "cell_type": "code",
      "source": [
        "YEstimacion_train = np.dot(XTrain, w)\n",
        "YEstimacion_test = np.dot(XTest, w)"
      ],
      "metadata": {
        "id": "s2yseYTGMiBD"
      },
      "execution_count": 9,
      "outputs": []
    },
    {
      "cell_type": "markdown",
      "source": [
        "### Punto g\n",
        "Grafique en un primer gráfico lo siguiente: $X_{train}$ vs $Y_{train}$ y $X_{train}$ vs $\\hat{Y}_{train}$ y un\n",
        "segundo gráfico con los resultados de validación: $X_{test}$ vs $Y_{test}$ y  $X_{test}$ vs $\\hat{Y}_{test}$."
      ],
      "metadata": {
        "id": "6KXa_2ZxNb3R"
      }
    },
    {
      "cell_type": "code",
      "source": [
        "# Se grafican los datos de Train\n",
        "plt.plot(Train['X'], Train['Y'],'.b', label='Y Entrenamiento')\n",
        "plt.plot(Train['X'], YEstimacion_train,'.g', label='Y Estimado')\n",
        "plt.xlabel('X Entrenamiento')\n",
        "plt.legend()\n",
        "plt.show()"
      ],
      "metadata": {
        "colab": {
          "base_uri": "https://localhost:8080/",
          "height": 449
        },
        "id": "rYG0L5M8OY5y",
        "outputId": "80629ecf-f588-417a-e1e6-82ac0a395e77"
      },
      "execution_count": 10,
      "outputs": [
        {
          "output_type": "display_data",
          "data": {
            "text/plain": [
              "<Figure size 640x480 with 1 Axes>"
            ],
            "image/png": "[encoded data removed]"
          },
          "metadata": {}
        }
      ]
    },
    {
      "cell_type": "markdown",
      "source": [
        "Se tiene que hablar de este gráfico anterior"
      ],
      "metadata": {
        "id": "HTXIxMb7WzOs"
      }
    },
    {
      "cell_type": "code",
      "source": [
        "# Se grafican los datos de Train\n",
        "plt.plot(Test['X'], Test['Y'],'.b', label='Y Test')\n",
        "plt.plot(Test['X'], YEstimacion_test,'.g', label='Y Estimado')\n",
        "plt.xlabel('X Test')\n",
        "plt.legend()\n",
        "plt.show()"
      ],
      "metadata": {
        "colab": {
          "base_uri": "https://localhost:8080/",
          "height": 449
        },
        "id": "Kq7B8i58OgO0",
        "outputId": "5dc8918c-2d7f-4071-96c1-4d0f28f4bf0f"
      },
      "execution_count": 11,
      "outputs": [
        {
          "output_type": "display_data",
          "data": {
            "text/plain": [
              "<Figure size 640x480 with 1 Axes>"
            ],
            "image/png": "[encoded data removed]"
          },
          "metadata": {}
        }
      ]
    },
    {
      "cell_type": "markdown",
      "source": [
        "Se tiene que hablar de este gráfico anterior7878"
      ],
      "metadata": {
        "id": "Wy5R4yjuXCaV"
      }
    },
    {
      "cell_type": "markdown",
      "source": [
        "### Cálculo de métricas de desempeño del modelo\n",
        "\n",
        "Para los resultados encontrados determine las siguientes métricas de desempeño, se sugiere el siguiente procedimiento:\n"
      ],
      "metadata": {
        "id": "H-oJDb-2iq1I"
      }
    },
    {
      "cell_type": "markdown",
      "source": [
        "### Punto a\n",
        "\n",
        "\n",
        "Calcule el coeficiente de correlación de Pearson entre $Y_{\\text{test}}$ y $\\hat{Y}_{\\text{test}}$ utilizando la ecuación 3.\n",
        "\n",
        "![image.png](data:image/png;base64,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)\n",
        "\n",
        "Donde $\\bar{Y}_{Test}$ y $\\bar{\\hat{Y}}_{Test}$ son el promedio de $Y_{\\text{test}}$ y $\\hat{Y}_{\\text{test}}$ respectivamente."
      ],
      "metadata": {
        "id": "-BrI5SyjRwv5"
      }
    },
    {
      "cell_type": "code",
      "source": [
        "def coef_pearson(X, Y):\n",
        "  # X es una variable y Y es otra\n",
        "  # Se calcula la correlación de Pearson entre esas dos variables\n",
        "  XMean = np.mean(X)\n",
        "  YMean = np.mean(Y)\n",
        "  num = np.dot(np.transpose(X- XMean), Y - YMean)\n",
        "  den = np.sqrt(np.dot(np.transpose(X- XMean), X - XMean) * np.dot(np.transpose(Y- YMean), Y - YMean))\n",
        "  aux_return = num/den\n",
        "  return aux_return[0][0]\n",
        "\n",
        "r_test = coef_pearson(YEstimacion_test, Test['Y'])\n",
        "print('Coeficiente de correlación de Pearson:', r_test)"
      ],
      "metadata": {
        "colab": {
          "base_uri": "https://localhost:8080/"
        },
        "id": "zvnOdJ_HUy5X",
        "outputId": "4cdad6e7-7b35-4290-c1a0-567b552a48c5"
      },
      "execution_count": 12,
      "outputs": [
        {
          "output_type": "stream",
          "name": "stdout",
          "text": [
            "Coeficiente de correlación de Pearson: 0.9998270997524684\n"
          ]
        }
      ]
    },
    {
      "cell_type": "markdown",
      "source": [
        "Se tiene que hablar de este resultado"
      ],
      "metadata": {
        "id": "map8pD6lXDzE"
      }
    },
    {
      "cell_type": "markdown",
      "source": [
        "### Punto b\n",
        "Repita el procedimiento anterior para los datos de $Y_{Train}$ y $\\bar{Y}_{Train}$."
      ],
      "metadata": {
        "id": "VlMtSzlJXSO9"
      }
    },
    {
      "cell_type": "code",
      "source": [
        "r_train = coef_pearson(YEstimacion_train, YTrain)\n",
        "print('Coeficiente de correlación de Pearson:', r_train)"
      ],
      "metadata": {
        "colab": {
          "base_uri": "https://localhost:8080/"
        },
        "id": "hIDCbBgvXypH",
        "outputId": "81b2fe02-5939-4d18-c805-08c9151e854f"
      },
      "execution_count": 13,
      "outputs": [
        {
          "output_type": "stream",
          "name": "stdout",
          "text": [
            "Coeficiente de correlación de Pearson: 0.999790486352462\n"
          ]
        }
      ]
    },
    {
      "cell_type": "markdown",
      "source": [
        "Se tiene que hablar de este resultado"
      ],
      "metadata": {
        "id": "iZQgeDO-Yu48"
      }
    },
    {
      "cell_type": "markdown",
      "source": [
        "### Punto c\n",
        "En un mismo gráfico muestre lo siguiente: $Y_{Test}$ vs $Y_{Test}$ y $Y_{Test}$ vs $\\hat{Y}_{Test}$. Qué puede concluir de este gráfico\n"
      ],
      "metadata": {
        "id": "eDH1-4ZhiCSw"
      }
    },
    {
      "cell_type": "code",
      "source": [
        "# Se grafican los datos de Test\n",
        "plt.plot(Test['Y'], Test['Y'],'.b', label='Y Test')\n",
        "plt.plot(Test['Y'], YEstimacion_test,'.g', label='Y Estimado')\n",
        "plt.legend()\n",
        "plt.xlabel('XTest')\n",
        "plt.ylabel('Y')\n",
        "plt.show()"
      ],
      "metadata": {
        "colab": {
          "base_uri": "https://localhost:8080/",
          "height": 449
        },
        "id": "PXQJkWytyEyL",
        "outputId": "96cbf483-668b-4503-9349-dca374145e73"
      },
      "execution_count": 14,
      "outputs": [
        {
          "output_type": "display_data",
          "data": {
            "text/plain": [
              "<Figure size 640x480 with 1 Axes>"
            ],
            "image/png": "[encoded data removed]"
          },
          "metadata": {}
        }
      ]
    },
    {
      "cell_type": "markdown",
      "source": [
        "Hablar de este resultado"
      ],
      "metadata": {
        "id": "uVrCrdt-mj0o"
      }
    },
    {
      "cell_type": "markdown",
      "source": [
        "### Punto d\n",
        "\n",
        "Compute el error cuadrático medio entre $Y_{Test}$ y $\\hat{Y}_{Test}$, utilice la ecuación 4.\n",
        "\n",
        "![image.png](data:image/png;base64,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)"
      ],
      "metadata": {
        "id": "2YtPKQTxnE4Q"
      }
    },
    {
      "cell_type": "code",
      "source": [
        "def rms(x, y):\n",
        "  # Calcula el error cuadrático medio entre dos arrays x e y\n",
        "  print(x.shape, y.shape)\n",
        "  assert x.shape == y.shape, \"Los tamaños de los arrays x e y deben coincidir.\"\n",
        "  num = np.sum(np.square(x - y))  # Calcula la suma de los cuadrados de las diferencias\n",
        "  den = x.size  # tamaño del array\n",
        "  return np.sqrt(num / den)\n",
        "\n",
        "rms_parte_1 = rms(Test['Y'][0], YEstimacion_test)\n",
        "print('Error cuadrático medio entre el valor real de Y y su estimación:', rms_parte_1)"
      ],
      "metadata": {
        "id": "fzxKYmyBywTb",
        "colab": {
          "base_uri": "https://localhost:8080/",
          "height": 512
        },
        "outputId": "248067b7-faeb-4c0f-8ea0-89607621ea2e"
      },
      "execution_count": 17,
      "outputs": [
        {
          "output_type": "error",
          "ename": "KeyError",
          "evalue": "ignored",
          "traceback": [
            "\u001b[0;31m---------------------------------------------------------------------------\u001b[0m",
            "\u001b[0;31mKeyError\u001b[0m                                  Traceback (most recent call last)",
            "\u001b[0;32m/usr/local/lib/python3.10/dist-packages/pandas/core/indexes/base.py\u001b[0m in \u001b[0;36mget_loc\u001b[0;34m(self, key, method, tolerance)\u001b[0m\n\u001b[1;32m   3801\u001b[0m             \u001b[0;32mtry\u001b[0m\u001b[0;34m:\u001b[0m\u001b[0;34m\u001b[0m\u001b[0;34m\u001b[0m\u001b[0m\n\u001b[0;32m-> 3802\u001b[0;31m                 \u001b[0;32mreturn\u001b[0m \u001b[0mself\u001b[0m\u001b[0;34m.\u001b[0m\u001b[0m_engine\u001b[0m\u001b[0;34m.\u001b[0m\u001b[0mget_loc\u001b[0m\u001b[0;34m(\u001b[0m\u001b[0mcasted_key\u001b[0m\u001b[0;34m)\u001b[0m\u001b[0;34m\u001b[0m\u001b[0;34m\u001b[0m\u001b[0m\n\u001b[0m\u001b[1;32m   3803\u001b[0m             \u001b[0;32mexcept\u001b[0m \u001b[0mKeyError\u001b[0m \u001b[0;32mas\u001b[0m \u001b[0merr\u001b[0m\u001b[0;34m:\u001b[0m\u001b[0;34m\u001b[0m\u001b[0;34m\u001b[0m\u001b[0m\n",
            "\u001b[0;32m/usr/local/lib/python3.10/dist-packages/pandas/_libs/index.pyx\u001b[0m in \u001b[0;36mpandas._libs.index.IndexEngine.get_loc\u001b[0;34m()\u001b[0m\n",
            "\u001b[0;32m/usr/local/lib/python3.10/dist-packages/pandas/_libs/index.pyx\u001b[0m in \u001b[0;36mpandas._libs.index.IndexEngine.get_loc\u001b[0;34m()\u001b[0m\n",
            "\u001b[0;32mpandas/_libs/hashtable_class_helper.pxi\u001b[0m in \u001b[0;36mpandas._libs.hashtable.Int64HashTable.get_item\u001b[0;34m()\u001b[0m\n",
            "\u001b[0;32mpandas/_libs/hashtable_class_helper.pxi\u001b[0m in \u001b[0;36mpandas._libs.hashtable.Int64HashTable.get_item\u001b[0;34m()\u001b[0m\n",
            "\u001b[0;31mKeyError\u001b[0m: 0",
            "\nThe above exception was the direct cause of the following exception:\n",
            "\u001b[0;31mKeyError\u001b[0m                                  Traceback (most recent call last)",
            "\u001b[0;32m<ipython-input-17-12cb7b3e2319>\u001b[0m in \u001b[0;36m<cell line: 9>\u001b[0;34m()\u001b[0m\n\u001b[1;32m      7\u001b[0m   \u001b[0;32mreturn\u001b[0m \u001b[0mnp\u001b[0m\u001b[0;34m.\u001b[0m\u001b[0msqrt\u001b[0m\u001b[0;34m(\u001b[0m\u001b[0mnum\u001b[0m \u001b[0;34m/\u001b[0m \u001b[0mden\u001b[0m\u001b[0;34m)\u001b[0m\u001b[0;34m\u001b[0m\u001b[0;34m\u001b[0m\u001b[0m\n\u001b[1;32m      8\u001b[0m \u001b[0;34m\u001b[0m\u001b[0m\n\u001b[0;32m----> 9\u001b[0;31m \u001b[0mrms_parte_1\u001b[0m \u001b[0;34m=\u001b[0m \u001b[0mrms\u001b[0m\u001b[0;34m(\u001b[0m\u001b[0mTest\u001b[0m\u001b[0;34m[\u001b[0m\u001b[0;34m'Y'\u001b[0m\u001b[0;34m]\u001b[0m\u001b[0;34m[\u001b[0m\u001b[0;36m0\u001b[0m\u001b[0;34m]\u001b[0m\u001b[0;34m,\u001b[0m \u001b[0mYEstimacion_test\u001b[0m\u001b[0;34m)\u001b[0m\u001b[0;34m\u001b[0m\u001b[0;34m\u001b[0m\u001b[0m\n\u001b[0m\u001b[1;32m     10\u001b[0m \u001b[0mprint\u001b[0m\u001b[0;34m(\u001b[0m\u001b[0;34m'Error cuadrático medio entre el valor real de Y y su estimación:'\u001b[0m\u001b[0;34m,\u001b[0m \u001b[0mrms_parte_1\u001b[0m\u001b[0;34m)\u001b[0m\u001b[0;34m\u001b[0m\u001b[0;34m\u001b[0m\u001b[0m\n",
            "\u001b[0;32m/usr/local/lib/python3.10/dist-packages/pandas/core/series.py\u001b[0m in \u001b[0;36m__getitem__\u001b[0;34m(self, key)\u001b[0m\n\u001b[1;32m    979\u001b[0m \u001b[0;34m\u001b[0m\u001b[0m\n\u001b[1;32m    980\u001b[0m         \u001b[0;32melif\u001b[0m \u001b[0mkey_is_scalar\u001b[0m\u001b[0;34m:\u001b[0m\u001b[0;34m\u001b[0m\u001b[0;34m\u001b[0m\u001b[0m\n\u001b[0;32m--> 981\u001b[0;31m             \u001b[0;32mreturn\u001b[0m \u001b[0mself\u001b[0m\u001b[0;34m.\u001b[0m\u001b[0m_get_value\u001b[0m\u001b[0;34m(\u001b[0m\u001b[0mkey\u001b[0m\u001b[0;34m)\u001b[0m\u001b[0;34m\u001b[0m\u001b[0;34m\u001b[0m\u001b[0m\n\u001b[0m\u001b[1;32m    982\u001b[0m \u001b[0;34m\u001b[0m\u001b[0m\n\u001b[1;32m    983\u001b[0m         \u001b[0;32mif\u001b[0m \u001b[0mis_hashable\u001b[0m\u001b[0;34m(\u001b[0m\u001b[0mkey\u001b[0m\u001b[0;34m)\u001b[0m\u001b[0;34m:\u001b[0m\u001b[0;34m\u001b[0m\u001b[0;34m\u001b[0m\u001b[0m\n",
            "\u001b[0;32m/usr/local/lib/python3.10/dist-packages/pandas/core/series.py\u001b[0m in \u001b[0;36m_get_value\u001b[0;34m(self, label, takeable)\u001b[0m\n\u001b[1;32m   1087\u001b[0m \u001b[0;34m\u001b[0m\u001b[0m\n\u001b[1;32m   1088\u001b[0m         \u001b[0;31m# Similar to Index.get_value, but we do not fall back to positional\u001b[0m\u001b[0;34m\u001b[0m\u001b[0;34m\u001b[0m\u001b[0m\n\u001b[0;32m-> 1089\u001b[0;31m         \u001b[0mloc\u001b[0m \u001b[0;34m=\u001b[0m \u001b[0mself\u001b[0m\u001b[0;34m.\u001b[0m\u001b[0mindex\u001b[0m\u001b[0;34m.\u001b[0m\u001b[0mget_loc\u001b[0m\u001b[0;34m(\u001b[0m\u001b[0mlabel\u001b[0m\u001b[0;34m)\u001b[0m\u001b[0;34m\u001b[0m\u001b[0;34m\u001b[0m\u001b[0m\n\u001b[0m\u001b[1;32m   1090\u001b[0m         \u001b[0;32mreturn\u001b[0m \u001b[0mself\u001b[0m\u001b[0;34m.\u001b[0m\u001b[0mindex\u001b[0m\u001b[0;34m.\u001b[0m\u001b[0m_get_values_for_loc\u001b[0m\u001b[0;34m(\u001b[0m\u001b[0mself\u001b[0m\u001b[0;34m,\u001b[0m \u001b[0mloc\u001b[0m\u001b[0;34m,\u001b[0m \u001b[0mlabel\u001b[0m\u001b[0;34m)\u001b[0m\u001b[0;34m\u001b[0m\u001b[0;34m\u001b[0m\u001b[0m\n\u001b[1;32m   1091\u001b[0m \u001b[0;34m\u001b[0m\u001b[0m\n",
            "\u001b[0;32m/usr/local/lib/python3.10/dist-packages/pandas/core/indexes/base.py\u001b[0m in \u001b[0;36mget_loc\u001b[0;34m(self, key, method, tolerance)\u001b[0m\n\u001b[1;32m   3802\u001b[0m                 \u001b[0;32mreturn\u001b[0m \u001b[0mself\u001b[0m\u001b[0;34m.\u001b[0m\u001b[0m_engine\u001b[0m\u001b[0;34m.\u001b[0m\u001b[0mget_loc\u001b[0m\u001b[0;34m(\u001b[0m\u001b[0mcasted_key\u001b[0m\u001b[0;34m)\u001b[0m\u001b[0;34m\u001b[0m\u001b[0;34m\u001b[0m\u001b[0m\n\u001b[1;32m   3803\u001b[0m             \u001b[0;32mexcept\u001b[0m \u001b[0mKeyError\u001b[0m \u001b[0;32mas\u001b[0m \u001b[0merr\u001b[0m\u001b[0;34m:\u001b[0m\u001b[0;34m\u001b[0m\u001b[0;34m\u001b[0m\u001b[0m\n\u001b[0;32m-> 3804\u001b[0;31m                 \u001b[0;32mraise\u001b[0m \u001b[0mKeyError\u001b[0m\u001b[0;34m(\u001b[0m\u001b[0mkey\u001b[0m\u001b[0;34m)\u001b[0m \u001b[0;32mfrom\u001b[0m \u001b[0merr\u001b[0m\u001b[0;34m\u001b[0m\u001b[0;34m\u001b[0m\u001b[0m\n\u001b[0m\u001b[1;32m   3805\u001b[0m             \u001b[0;32mexcept\u001b[0m \u001b[0mTypeError\u001b[0m\u001b[0;34m:\u001b[0m\u001b[0;34m\u001b[0m\u001b[0;34m\u001b[0m\u001b[0m\n\u001b[1;32m   3806\u001b[0m                 \u001b[0;31m# If we have a listlike key, _check_indexing_error will raise\u001b[0m\u001b[0;34m\u001b[0m\u001b[0;34m\u001b[0m\u001b[0m\n",
            "\u001b[0;31mKeyError\u001b[0m: 0"
          ]
        }
      ]
    },
    {
      "cell_type": "markdown",
      "source": [
        "Calculando coeficiente de pearson"
      ],
      "metadata": {
        "id": "EXY9_GQL0ZK_"
      }
    },
    {
      "cell_type": "code",
      "source": [
        "# def coef_pearson(X, Y):\n",
        "#   # X es una variable y Y es otra\n",
        "#   # Se calcula la correlación de Pearson entre esas dos variables\n",
        "#   XMean = np.mean(X)\n",
        "#   YMean = np.mean(Y)\n",
        "#   num = np.dot(np.transpose(X- XMean), Y - YMean)\n",
        "#   den = np.sqrt(np.dot(np.transpose(X- XMean), X - XMean) * np.dot(np.transpose(Y- YMean), Y - YMean))\n",
        "#   return num/den\n",
        "\n",
        "# YEstimacionTest = np.dot(XTest, w)\n",
        "# r = coef_pearson(YEstimacionTest, Test['Y'])\n",
        "# print(r)"
      ],
      "metadata": {
        "id": "RQzaIlWM0cLP"
      },
      "execution_count": null,
      "outputs": []
    },
    {
      "cell_type": "markdown",
      "source": [
        "Implementando la solución regularizada"
      ],
      "metadata": {
        "id": "FIoqUYUA4R4E"
      }
    },
    {
      "cell_type": "code",
      "source": [
        "df = pd.read_csv(\"/content/Database/DataLeastSquarePolinomial.csv\")\n",
        "Train = df.sample(frac=0.8, random_state=42)\n",
        "Test = df.drop(Train.index)\n",
        "\n",
        "# Se construye la matriz X y el vector Y a partir de la teoría\n",
        "m = Train.shape[0] # Cantidad de muestras\n",
        "n = 45 # Número de parámetros del polinomio\n",
        "\n",
        "XTrain = np.zeros((m, n+1))\n",
        "YTrain = np.zeros((m, 1))\n",
        "YTest = np.zeros((Test.shape[0], 1))\n",
        "XTest = np.zeros((Test.shape[0], n+1))\n",
        "\n",
        "# Llenamos los X\n",
        "for i in range(n+1):\n",
        "  XTrain[:, i] = Train['X']**i\n",
        "  XTest[:, i] = Test['X']**i\n",
        "\n",
        "# Llenamos los Y\n",
        "YTrain[:,0] = Train['Y']\n",
        "YTest[:,0] = Test['Y']\n",
        "\n",
        "# Regularización\n",
        "Lambda = 0.00000001\n",
        "I = np.eye(n+1)\n",
        "\n",
        "# Vamos a calcular omega (w)\n",
        "w = np.dot(np.linalg.inv( np.dot(np.transpose(XTrain), XTrain) + np.dot(Lambda, I)), np.dot(np.transpose(XTrain), YTrain))\n",
        "\n",
        "YEstimacion = np.dot(XTrain, w)\n",
        "\n",
        "print('Lambda=', Lambda)\n",
        "\n",
        "# Se grafican los datos de Train\n",
        "plt.plot(Train['X'], Train['Y'],'.b')\n",
        "plt.plot(Train['X'], YEstimacion,'.g')\n",
        "plt.xlabel('XTrain')\n",
        "plt.ylabel('Y')\n",
        "\n",
        "YEstimacion = np.dot(XTest, w)\n",
        "\n",
        "# Se grafican los datos de Test\n",
        "plt.plot(Test['X'], Test['Y'],'.b')\n",
        "plt.plot(Test['X'], YEstimacion,'.g')\n",
        "plt.xlabel('XTest')\n",
        "plt.ylabel('Y')"
      ],
      "metadata": {
        "id": "TSO484nA4U6x"
      },
      "execution_count": null,
      "outputs": []
    }
  ]
}